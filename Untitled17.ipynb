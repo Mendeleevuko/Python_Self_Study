{
 "cells": [
  {
   "cell_type": "code",
   "execution_count": 28,
   "metadata": {},
   "outputs": [
    {
     "name": "stdout",
     "output_type": "stream",
     "text": [
      "564.7\n",
      "80.67142857142858\n"
     ]
    }
   ],
   "source": [
    "week_temps_f = \"75.1,77.7,83.2,82.5,81.0,79.5,85.7\"\n",
    "accum = 0\n",
    "count = 0\n",
    "sum_ = 0\n",
    "for item in week_temps_f.split(','):\n",
    "    count += 1\n",
    "    sum_ = sum_ + float(item)\n",
    "    accum = sum_/len(week_temps_f.split(',')) # count can be used instead of len(week_temps_f.split(',')) \n",
    "    \n",
    "print(sum_)    \n",
    "print(accum)\n"
   ]
  },
  {
   "cell_type": "code",
   "execution_count": 26,
   "metadata": {},
   "outputs": [
    {
     "name": "stdout",
     "output_type": "stream",
     "text": [
      "37\n"
     ]
    }
   ],
   "source": [
    "addition_str = \"2+5+10+20\"\n",
    "sum_val = 0\n",
    "avg_val = 0\n",
    "for num in addition_str.split('+'):\n",
    "    sum_val = sum_val + int(num)\n",
    "    avg_val = int(num)/len(addition_str.split('+'))\n",
    "print(sum_val)    "
   ]
  },
  {
   "cell_type": "code",
   "execution_count": 31,
   "metadata": {},
   "outputs": [
    {
     "name": "stdout",
     "output_type": "stream",
     "text": [
      "['Bring an umbrella.', 'Nice day!', 'Bring an umbrella.', 'Watch out for clouds!', 'Nice day!', 'Nice day!', 'Watch out for clouds!', 'Good for the flowers?']\n"
     ]
    }
   ],
   "source": [
    "\"\"\"Create an empty list called resps. Using the list percent_rain, for each percent, \n",
    "if it is above 90, add the string ‘Bring an umbrella.’ to resps, otherwise if it is above 80, \n",
    "add the string ‘Good for the flowers?’ to resps, otherwise if it is above 50, add the string ‘Watch out for clouds!’ to resps, \n",
    "otherwise, add the string ‘Nice day!’ to resps.  \"\"\"\n",
    "\n",
    "percent_rain = [94.3, 45, 100, 78, 16, 5.3, 79, 86]\n",
    "resps = list()\n",
    "for percent in percent_rain:\n",
    "    if (percent > 90.0):\n",
    "        resps.append(\"Bring an umbrella.\")\n",
    "    elif (percent > 80.0) and (percent < 90.0):\n",
    "        resps.append(\"Good for the flowers?\")\n",
    "    elif (percent > 50.0) and percent < 80.0:\n",
    "        resps.append(\"Watch out for clouds!\")\n",
    "        #resps += \"Watch out for clouds!\"\n",
    "    else:\n",
    "        resps.append(\"Nice day!\")\n",
    "print(resps)"
   ]
  },
  {
   "cell_type": "code",
   "execution_count": 34,
   "metadata": {},
   "outputs": [
    {
     "data": {
      "text/plain": [
       "[False, None]"
      ]
     },
     "execution_count": 34,
     "metadata": {},
     "output_type": "execute_result"
    }
   ],
   "source": [
    "\"\"\"Do not change the provided conditional statements. \n",
    "Find an integer value for x that will cause output to hold the values True and None.\"\"\" \n",
    "\n",
    "x =  # 64, 65, or 66\n",
    "output = [] # empty list\n",
    "\n",
    "if x > 63:\n",
    "    output.append(True)\n",
    "elif x > 55:\n",
    "    output.append(False)\n",
    "else:\n",
    "    output.append(\"Neither\")\n",
    "\n",
    "if x > 67:\n",
    "    output.append(True)\n",
    "else:\n",
    "    output.append(None)\n",
    "\n",
    "output\n"
   ]
  },
  {
   "cell_type": "code",
   "execution_count": 35,
   "metadata": {},
   "outputs": [
    {
     "data": {
      "text/plain": [
       "3"
      ]
     },
     "execution_count": 35,
     "metadata": {},
     "output_type": "execute_result"
    }
   ],
   "source": [
    "\"\"\"For each string in the list words, find the number of characters in the string. \n",
    "If the number of characters in the string is greater than 3, add 1 to the variable num_words so that \n",
    "num_words should end up with the total number of words with more than 3 characters. \"\"\"\n",
    "\n",
    "words = [\"water\", \"chair\", \"pen\", \"basket\", \"hi\", \"car\"]\n",
    "num_words = 0\n",
    "for word in words:\n",
    "    if (len(word) > 3):\n",
    "        num_words += 1\n",
    "num_words"
   ]
  },
  {
   "cell_type": "code",
   "execution_count": 40,
   "metadata": {},
   "outputs": [
    {
     "data": {
      "text/plain": [
       "['adopted',\n",
       " 'baked',\n",
       " 'beamed',\n",
       " 'confided',\n",
       " 'grilled',\n",
       " 'planted',\n",
       " 'timed',\n",
       " 'waved',\n",
       " 'wished']"
      ]
     },
     "execution_count": 40,
     "metadata": {},
     "output_type": "execute_result"
    }
   ],
   "source": [
    "\"\"\"Challenge For each word in words, add ‘d’ to the end of the word if the word ends in “e” to make it past tense. \n",
    "Otherwise, add ‘ed’ to make it past tense. Save these past tense words to a list called past_tense. \"\"\"\n",
    "\n",
    "words = [\"adopt\", \"bake\", \"beam\", \"confide\", \"grill\", \"plant\", \"time\", \"wave\", \"wish\"]\n",
    "past_tense = []\n",
    "for word in words:\n",
    "    if (word[-1] == \"e\"):\n",
    "        past_tense.append(word + \"d\")\n",
    "    else:\n",
    "        past_tense.append(word + \"ed\")\n",
    "past_tense       "
   ]
  },
  {
   "cell_type": "code",
   "execution_count": 36,
   "metadata": {},
   "outputs": [
    {
     "data": {
      "text/plain": [
       "'uko'"
      ]
     },
     "execution_count": 36,
     "metadata": {},
     "output_type": "execute_result"
    }
   ],
   "source": [
    "x = \"uk\"\n",
    "x = x + \"o\"\n",
    "x"
   ]
  },
  {
   "cell_type": "code",
   "execution_count": 43,
   "metadata": {},
   "outputs": [
    {
     "data": {
      "text/plain": [
       "5"
      ]
     },
     "execution_count": 43,
     "metadata": {},
     "output_type": "execute_result"
    }
   ],
   "source": [
    "\"\"\"rainfall_mi is a string that contains the average number of inches of rainfall in Michigan for every month (in inches) \n",
    "with every month separated by a comma. Write code to compute the number of months that have more than 3 inches of rainfall. \n",
    "Store the result in the variable num_rainy_months. In other words, count the number of items with values > 3.0.\n",
    ".............................................\n",
    "Hard-coded answers will receive no credit.\"\"\"\n",
    "\n",
    "rainfall_mi = \"1.65, 1.46, 2.05, 3.03, 3.35, 3.46, 2.83, 3.23, 3.5, 2.52, 2.8, 1.85\"\n",
    "num_rainy_months = 0\n",
    "for num in rainfall_mi.split(','):\n",
    "    if (float(num) > 3.0):\n",
    "        num_rainy_months += 1\n",
    "num_rainy_months        "
   ]
  },
  {
   "cell_type": "code",
   "execution_count": 44,
   "metadata": {},
   "outputs": [
    {
     "data": {
      "text/plain": [
       "2"
      ]
     },
     "execution_count": 44,
     "metadata": {},
     "output_type": "execute_result"
    }
   ],
   "source": [
    "\"\"\"The variable sentence stores a string. Write code to determine how many words in sentence start and end with the same letter, \n",
    "including one-letter words. Store the result in the variable same_letter_count.\n",
    ".............................................\n",
    "Hard-coded answers will receive no credit.\"\"\"\n",
    "\n",
    "sentence = \"students flock to the arb for a variety of outdoor activities such as jogging and picnicking\"\n",
    "same_letter_count = 0\n",
    "for word in sentence.split():\n",
    "    if word[0] == word[-1]:\n",
    "        same_letter_count += 1\n",
    "same_letter_count        "
   ]
  },
  {
   "cell_type": "code",
   "execution_count": 46,
   "metadata": {},
   "outputs": [
    {
     "data": {
      "text/plain": [
       "4"
      ]
     },
     "execution_count": 46,
     "metadata": {},
     "output_type": "execute_result"
    }
   ],
   "source": [
    "\"\"\"Write code to count the number of strings in list items that have the character w in it. \n",
    "Assign that number to the variable acc_num.\n",
    ".....................................\n",
    "HINT 1: Use the accumulation pattern!\n",
    "HINT 2: the \"in\" operator checks whether a substring is present in a string.\n",
    "Hard-coded answers will receive no credit.\"\"\"\n",
    "\n",
    "items = [\"whirring\", \"wow!\", \"calendar\", \"wry\", \"glass\", \"\", \"llama\",\"tumultuous\",\"owing\"]\n",
    "acc_num = 0\n",
    "for item in items:\n",
    "    if \"w\" in item:\n",
    "        acc_num = acc_num + 1\n",
    "acc_num        "
   ]
  },
  {
   "cell_type": "code",
   "execution_count": 47,
   "metadata": {},
   "outputs": [
    {
     "data": {
      "text/plain": [
       "14"
      ]
     },
     "execution_count": 47,
     "metadata": {},
     "output_type": "execute_result"
    }
   ],
   "source": [
    "\"\"\"Write code that counts the number of words in sentence that contain either an “a” or an “e”. Store the result in the variable num_a_or_e.\n",
    "Note 1: be sure to not double-count words that contain both an a and an e.\n",
    "HINT 1: Use the \"in\" operator.\n",
    "HINT 2: You can either use \"or\" or \"elif\".\n",
    "Hard-coded answers will receive no credit.\"\"\"\n",
    "\n",
    "sentence = \"python is a high level general purpose programming language that can be applied to many different classes of problems.\"\n",
    "num_a_or_e = 0\n",
    "for word in sentence.split():\n",
    "    if (\"a\" in word) or (\"e\" in word):\n",
    "        num_a_or_e += 1\n",
    "num_a_or_e        "
   ]
  },
  {
   "cell_type": "code",
   "execution_count": 53,
   "metadata": {},
   "outputs": [
    {
     "data": {
      "text/plain": [
       "140734549440304"
      ]
     },
     "execution_count": 53,
     "metadata": {},
     "output_type": "execute_result"
    }
   ],
   "source": [
    "\"\"\"Write code that will count the number of vowels in the sentence s and assign the result to the variable num_vowels. \n",
    "For this problem, vowels are only a, e, i, o, and u.\n",
    "......................................\n",
    "Hint: use the in operator with vowels. \"\"\"\n",
    "\n",
    "s = \"singing in the rain and playing in the rain are two entirely different situations but both can be fun\"\n",
    "vowels = ['a','e','i','o','u']\n",
    "num_vowels = 0\n",
    "for word in s:\n",
    "    if word in vowels:\n",
    "        num_vowels = num_vowels + 1\n",
    "num_vowels  \n",
    "#id(num_vowels) #identifier"
   ]
  },
  {
   "cell_type": "code",
   "execution_count": 54,
   "metadata": {},
   "outputs": [
    {
     "name": "stdout",
     "output_type": "stream",
     "text": [
      "The set is {5, 9}.\n"
     ]
    }
   ],
   "source": [
    "a = 5\n",
    "b = 9\n",
    "setStr = 'The set is {{{}, {}}}.'.format(a, b)\n",
    "print(setStr)"
   ]
  },
  {
   "cell_type": "code",
   "execution_count": 55,
   "metadata": {},
   "outputs": [
    {
     "name": "stdout",
     "output_type": "stream",
     "text": [
      "sum of 2 and 6 is 8; product: 12.\n"
     ]
    }
   ],
   "source": [
    "x = 2\n",
    "y = 6\n",
    "print('sum of {} and {} is {}; product: {}.'.format( x, y, x+y, x*y))"
   ]
  },
  {
   "cell_type": "code",
   "execution_count": 56,
   "metadata": {},
   "outputs": [
    {
     "name": "stdout",
     "output_type": "stream",
     "text": [
      "2.3 2.35 2.3456700\n"
     ]
    }
   ],
   "source": [
    "v = 2.34567\n",
    "print('{:.1f} {:.2f} {:.7f}'.format(v, v, v))"
   ]
  },
  {
   "cell_type": "code",
   "execution_count": 58,
   "metadata": {},
   "outputs": [
    {
     "data": {
      "text/plain": [
       "['cricket',\n",
       " 'football',\n",
       " 'horseback riding',\n",
       " 'volleyball',\n",
       " 'baseball',\n",
       " 'softball',\n",
       " 'track and field',\n",
       " 'curling',\n",
       " 'ping pong',\n",
       " 'hockey']"
      ]
     },
     "execution_count": 58,
     "metadata": {},
     "output_type": "execute_result"
    }
   ],
   "source": [
    "\"\"\"Write code to add ‘horseback riding’ to the third position (i.e., right before volleyball) in the list sports.\"\"\"\n",
    "sports = ['cricket', 'football', 'volleyball', 'baseball', 'softball', 'track and field', 'curling', 'ping pong', 'hockey']\n",
    "sports[2:2] = [\"horseback riding\"]\n",
    "sports"
   ]
  },
  {
   "cell_type": "code",
   "execution_count": 73,
   "metadata": {},
   "outputs": [
    {
     "data": {
      "text/plain": [
       "['Beirut',\n",
       " 'Milan',\n",
       " 'Pittsburgh',\n",
       " 'Buenos Aires',\n",
       " 'Nairobi',\n",
       " 'Kathmandu',\n",
       " 'Osaka',\n",
       " 'Melbourne']"
      ]
     },
     "execution_count": 73,
     "metadata": {},
     "output_type": "execute_result"
    }
   ],
   "source": [
    "\"\"\"Write code to take ‘London’ out of the list trav_dest. \"\"\"\n",
    "\n",
    "trav_dest = ['Beirut', 'Milan', 'Pittsburgh', 'Buenos Aires', 'Nairobi', 'Kathmandu', 'Osaka', 'London', 'Melbourne']\n",
    "\"\"\"First method\"\"\"\n",
    "# trav_dest.pop(-2) # This will return the removed item and can be captured e.g. poped_item = trav_dest.pop(-2)\n",
    "\"\"\"Second method\"\"\"\n",
    "# trav_dest.index('London')\n",
    "# del trav_dest[7]\n",
    "\"\"\"..........Alternative to first and second methods\"\"\"\n",
    "trav_dest.remove('London')\n",
    "trav_dest\n"
   ]
  },
  {
   "cell_type": "code",
   "execution_count": 76,
   "metadata": {},
   "outputs": [
    {
     "data": {
      "text/plain": [
       "['Beirut',\n",
       " 'Milan',\n",
       " 'Pittsburgh',\n",
       " 'Buenos Aires',\n",
       " 'Nairobi',\n",
       " 'Kathmandu',\n",
       " 'Osaka',\n",
       " 'Melbourne',\n",
       " 'Guadalajara']"
      ]
     },
     "execution_count": 76,
     "metadata": {},
     "output_type": "execute_result"
    }
   ],
   "source": [
    "\"\"\"Write code to add ‘Guadalajara’ to the end of the list trav_dest using a list method. \"\"\"\n",
    "\n",
    "trav_dest = ['Beirut', 'Milan', 'Pittsburgh', 'Buenos Aires', 'Nairobi', 'Kathmandu', 'Osaka', 'Melbourne']\n",
    "trav_dest += ['Guadalajara']\n",
    "\"\"\"... alternative method\"\"\"\n",
    "#trav_dest.append('Guadalajara')\n",
    "trav_dest"
   ]
  },
  {
   "cell_type": "code",
   "execution_count": 78,
   "metadata": {},
   "outputs": [
    {
     "data": {
      "text/plain": [
       "['Alice Munro',\n",
       " 'Alvin E. Roth',\n",
       " 'Kazuo Ishiguro',\n",
       " 'Malala Yousafzai',\n",
       " 'Rainer Weiss',\n",
       " 'Youyou Tu']"
      ]
     },
     "execution_count": 78,
     "metadata": {},
     "output_type": "execute_result"
    }
   ],
   "source": [
    "\"\"\"Write code to rearrange the strings in the list winners so that they are in alphabetical order from A to Z.\"\"\"\n",
    "\n",
    "winners = ['Kazuo Ishiguro', 'Rainer Weiss', 'Youyou Tu', 'Malala Yousafzai', 'Alice Munro', 'Alvin E. Roth']\n",
    "winners.sort()\n",
    "winners"
   ]
  },
  {
   "cell_type": "code",
   "execution_count": 84,
   "metadata": {},
   "outputs": [
    {
     "data": {
      "text/plain": [
       "['Youyou Tu',\n",
       " 'Rainer Weiss',\n",
       " 'Malala Yousafzai',\n",
       " 'Kazuo Ishiguro',\n",
       " 'Alvin E. Roth',\n",
       " 'Alice Munro']"
      ]
     },
     "execution_count": 84,
     "metadata": {},
     "output_type": "execute_result"
    }
   ],
   "source": [
    "\"\"\"Write code to switch the order of the winners list so that it is now Z to A. Assign this list to the variable z_winners. \"\"\"\n",
    "\n",
    "winners = ['Alice Munro', 'Alvin E. Roth', 'Kazuo Ishiguro', 'Malala Yousafzai', 'Rainer Weiss', 'Youyou Tu']\n",
    "winners.reverse()\n",
    "z_winners = winners\n",
    "z_winners"
   ]
  },
  {
   "cell_type": "code",
   "execution_count": 86,
   "metadata": {},
   "outputs": [
    {
     "data": {
      "text/plain": [
       "['kayaking', 'crying', 'walking', 'eating', 'drinking', 'flying']"
      ]
     },
     "execution_count": 86,
     "metadata": {},
     "output_type": "execute_result"
    }
   ],
   "source": [
    "\"\"\"For each word in the list verbs, add an -ing ending. Save this new list in a new list, ing.\"\"\"\n",
    "\n",
    "verbs = [\"kayak\", \"cry\", \"walk\", \"eat\", \"drink\", \"fly\"]\n",
    "ing = []\n",
    "for verb in verbs:\n",
    "    ing.append(verb + 'ing')\n",
    "ing"
   ]
  },
  {
   "cell_type": "code",
   "execution_count": 88,
   "metadata": {},
   "outputs": [
    {
     "data": {
      "text/plain": [
       "25"
      ]
     },
     "execution_count": 88,
     "metadata": {},
     "output_type": "execute_result"
    }
   ],
   "source": [
    "\"\"\"Given the list of numbers, numbs, create a new list of those same numbers increased by 5. Save this new list to the variable newlist. \"\"\"\n",
    "\n",
    "numbs = [5, 10, 15, 20, 25]\n",
    "newlist = list()\n",
    "for numb in numbs:\n",
    "    newlist.append(numb + 5)\n",
    "numb    \n",
    "    "
   ]
  },
  {
   "cell_type": "code",
   "execution_count": 132,
   "metadata": {},
   "outputs": [
    {
     "data": {
      "text/plain": [
       "[10, 15, 20, 25, 30]"
      ]
     },
     "execution_count": 132,
     "metadata": {},
     "output_type": "execute_result"
    }
   ],
   "source": [
    "\"\"\"Challenge Now do the same as in the previous problem, but do not create a new list. \n",
    "Overwrite the list numbs so that each of the original numbers are increased by 5. \"\"\"\n",
    "\n",
    "numbs = [5, 10, 15, 20, 25]\n",
    "count = 0\n",
    "for numb in numbs:\n",
    "    numbs[count] = numb + 5\n",
    "    count += 1\n",
    "numbs    "
   ]
  },
  {
   "cell_type": "code",
   "execution_count": 111,
   "metadata": {},
   "outputs": [
    {
     "data": {
      "text/plain": [
       "[8, 58, 10.6, 20, 4, 3634, 3934, 18, 62.64]"
      ]
     },
     "execution_count": 111,
     "metadata": {},
     "output_type": "execute_result"
    }
   ],
   "source": [
    "\"\"\"For each number in lst_nums, multiply that number by 2 and append it to a new list called larger_nums.\"\"\"\n",
    "\n",
    "lst_nums = [4, 29, 5.3, 10, 2, 1817, 1967, 9, 31.32]\n",
    "larger_nums = []\n",
    "for num in lst_nums:\n",
    "    larger_nums.append(num*2)\n",
    "larger_nums    "
   ]
  },
  {
   "cell_type": "code",
   "execution_count": 140,
   "metadata": {},
   "outputs": [
    {
     "data": {
      "text/plain": [
       "['I', ' ', 'l', 'o', 'v', 'e', ' ', 'p', 'y', 't', 'h', 'o', 'n']"
      ]
     },
     "execution_count": 140,
     "metadata": {},
     "output_type": "execute_result"
    }
   ],
   "source": [
    "\"\"\"For each character in the string already saved in the variable str1, add each character to a list called chars.\"\"\"\n",
    "\n",
    "str1 = \"I love python\"\n",
    "# chars = []\n",
    "# for letter in str1:\n",
    "#     if letter != ' ':\n",
    "#         chars += letter  \n",
    "# chars    \n",
    "\n",
    "\"\"\".....Alternative method\"\"\"\n",
    "# chars = []\n",
    "# for letter in str1:\n",
    "#     chars += letter  \n",
    "# chars \n",
    "\n",
    "\"\"\"....Another method\"\"\"\n",
    "chars = []\n",
    "for letter in str1:\n",
    "    chars.append(letter)   \n",
    "chars "
   ]
  },
  {
   "cell_type": "code",
   "execution_count": 142,
   "metadata": {},
   "outputs": [
    {
     "data": {
      "text/plain": [
       "'aaaaaaaaaaaaaaaaaaaaaaaaaaaaaaaaaaa'"
      ]
     },
     "execution_count": 142,
     "metadata": {},
     "output_type": "execute_result"
    }
   ],
   "source": [
    "\"\"\"Assign an empty string to the variable output. Using the range function, write code to make it so that the variable output has 35 a s inside it (like \"aaaaaaaaaaaaaaaaaaaaaaaaaaaaaaaaaaa\"). \n",
    "Hint: use the accumulation pattern!\"\"\"\n",
    "\n",
    "output = ''\n",
    "for str1 in range(35):\n",
    "    output = output + \"a\"\n",
    "output    "
   ]
  },
  {
   "cell_type": "code",
   "execution_count": 143,
   "metadata": {},
   "outputs": [
    {
     "data": {
      "text/plain": [
       "['I', ' ', 'l', 'o', 'v', 'e', ' ', 'p', 'y', 't', 'h', 'o', 'n']"
      ]
     },
     "execution_count": 143,
     "metadata": {},
     "output_type": "execute_result"
    }
   ],
   "source": [
    "\"\"\"Currently there is a string called str1. Write code to create a list called chars which should contain the characters from str1. \n",
    "Each character in str1 should be its own element in the list chars. \"\"\"\n",
    "\n",
    "str1 = \"I love python\"\n",
    "# HINT: what's the accumulator? That should go here.\n",
    "chars = list()\n",
    "for letter in str1:\n",
    "    chars += letter\n",
    "chars    "
   ]
  },
  {
   "cell_type": "code",
   "execution_count": 149,
   "metadata": {},
   "outputs": [
    {
     "data": {
      "text/plain": [
       "10"
      ]
     },
     "execution_count": 149,
     "metadata": {},
     "output_type": "execute_result"
    }
   ],
   "source": [
    "\"\"\"Below are a set of scores that students have received in the past semester. \n",
    "Write code to determine how many are 90 or above and assign that result to the value a_scores.\"\"\"\n",
    "\n",
    "scores = \"67 80 90 78 93 20 79 89 96 97 92 88 79 68 58 90 98 100 79 74 83 88 80 86 85 70 90 100\"\n",
    "a_scores = 0\n",
    "for score in scores.split():\n",
    "    #print(type(score))\n",
    "    if int(score) >= 90:\n",
    "        a_scores += 1\n",
    "a_scores        \n",
    "    "
   ]
  },
  {
   "cell_type": "code",
   "execution_count": 191,
   "metadata": {},
   "outputs": [
    {
     "data": {
      "text/plain": [
       "'TOFHSE'"
      ]
     },
     "execution_count": 191,
     "metadata": {},
     "output_type": "execute_result"
    }
   ],
   "source": [
    "\"\"\"Write code that uses the string stored in \"org\" and creates an acronym which is assigned to the variable \"acro\". \n",
    "Only the first letter of each word should be used, each letter in the acronym should be a capital letter, \n",
    "and there should be nothing to separate the letters of the acronym. Words that should not be included in the \n",
    "acronym are stored in the list \"stopwords\". For example, if org was assigned the string “hello to world” then the \n",
    "resulting acronym should be “HW”.\"\"\"\n",
    "\n",
    "stopwords = ['to', 'a', 'for', 'by', 'an', 'am', 'the', 'so', 'it', 'and', \"The\"]\n",
    "org = \"The organization for health, safety, and education\"\n",
    "acro = ''\n",
    "for letter in org.split():\n",
    "    #print(letter)\n",
    "     if letter[0] not in stopwords:\n",
    "        #print(letter[0])\n",
    "        acro += letter[0].upper()\n",
    "      \n",
    "                       \n",
    "acro \n",
    "#stopwords\n",
    "#acro.lower() in stopwords"
   ]
  },
  {
   "cell_type": "code",
   "execution_count": 210,
   "metadata": {},
   "outputs": [
    {
     "data": {
      "text/plain": [
       "'Th. wa. ea. ai. ar. vi. '"
      ]
     },
     "execution_count": 210,
     "metadata": {},
     "output_type": "execute_result"
    }
   ],
   "source": [
    "\"\"\"Write code that uses the string stored in sent and creates an acronym which is assigned to the variable acro. \n",
    "The first two letters of each word should be used, each letter in the acronym should be a capital letter, \n",
    "and each element of the acronym should be separated by a “. ” (dot and space). \n",
    "Words that should not be included in the acronym are stored in the list stopwords. \n",
    "For example, if sent was assigned the string “height and ewok wonder” then the resulting acronym should be “HE. EW. WO”. \"\"\"\n",
    "\n",
    "stopwords = ['to', 'a', 'for', 'by', 'an', 'am', 'the', 'so', 'it', 'and', 'The']\n",
    "sent = \"The water earth and air are vital\"\n",
    "acro = \"\"\n",
    "for wrd in sent.split():\n",
    "    if wrd[0:2] not in stopwords:\n",
    "        #print(wrd[0:2])\n",
    "        acro += wrd[0:2] + \". \" \n",
    "\n",
    "acro        "
   ]
  },
  {
   "cell_type": "code",
   "execution_count": 260,
   "metadata": {},
   "outputs": [
    {
     "data": {
      "text/plain": [
       "'saw I cat a or car a it was'"
      ]
     },
     "execution_count": 260,
     "metadata": {},
     "output_type": "execute_result"
    }
   ],
   "source": [
    "\"\"\"A palindrome is a phrase that, if reversed, would read the exact same. \n",
    "Write code that checks if p_phrase is a palindrome by reversing it and then checking if the reversed version is equal to the original. \n",
    "Assign the reversed version of p_phrase to the variable r_phrase so that we can check your work. \"\"\"\n",
    "\n",
    "p_phrase = \"was it a car or a cat I saw\"\n",
    "phrase_list = []\n",
    "for wrd in p_phrase.split():\n",
    "    #r_phrase += (wrd + ' ')\n",
    "    phrase_list.append(wrd)\n",
    "phrase_list.reverse() \n",
    "rr_phrase = ' '.join(phrase_list)\n",
    "rr_phrase\n",
    " "
   ]
  },
  {
   "cell_type": "code",
   "execution_count": 267,
   "metadata": {},
   "outputs": [
    {
     "name": "stdout",
     "output_type": "stream",
     "text": [
      "The store has 12 shoes, each for 29.99 USD.\n",
      "The store has 20 shirts, each for 9.99 USD.\n",
      "The store has 25 sweatpants, each for 15.00 USD.\n",
      "The store has 13 scarves, each for 7.75 USD.\n"
     ]
    }
   ],
   "source": [
    "\"\"\"Provided is a list of data about a store’s inventory where each item in the list represents the name of an item, \n",
    "how much is in stock, and how much it costs. Print out each item in the list with the same formatting, using the .format method (not string concatenation). \n",
    "For example, the first print statment should read '**The store has 12 shoes, each for 29.99 USD.**'\"\"\"\n",
    "\n",
    "inventory = [\"shoes, 12, 29.99\", \"shirts, 20, 9.99\", \"sweatpants, 25, 15.00\", \"scarves, 13, 7.75\"]\n",
    "\n",
    "for invent in inventory:\n",
    "    \n",
    "    article = (invent.split(','))[0]\n",
    "    num_invent = (invent.split(','))[1]\n",
    "    cost_invent = (invent.split(','))[2]\n",
    "    \n",
    "#     print(article)\n",
    "#     print(num_invent)\n",
    "#     print(cost_invent)\n",
    "\n",
    "    print(\"The store has{} {}, each for{} USD.\".format(num_invent, article, cost_invent))\n",
    "\n",
    "    "
   ]
  },
  {
   "cell_type": "code",
   "execution_count": 276,
   "metadata": {},
   "outputs": [
    {
     "data": {
      "text/plain": [
       "'was it a car or a cat I saw '"
      ]
     },
     "execution_count": 276,
     "metadata": {},
     "output_type": "execute_result"
    }
   ],
   "source": [
    "\"\"\"A palindrome is a phrase that, if reversed, would read the exact same. \n",
    "Write code that checks if p_phrase is a palindrome by reversing it and then checking if the reversed version is equal to the original. \n",
    "Assign the reversed version of p_phrase to the variable r_phrase so that we can check your work. \"\"\"\n",
    "\n",
    "p_phrase = \"was it a car or a cat I saw\"\n",
    "r_phrase = ''\n",
    "for wrd in p_phrase.split():\n",
    "    r_phrase += (wrd + ' ')\n",
    "r_phrase    "
   ]
  },
  {
   "cell_type": "code",
   "execution_count": 282,
   "metadata": {},
   "outputs": [
    {
     "data": {
      "text/plain": [
       "(348, 348)"
      ]
     },
     "execution_count": 282,
     "metadata": {},
     "output_type": "execute_result"
    }
   ],
   "source": [
    "\"\"\"Code counts the number of characters in string \"rv\" and assigns it to variable \"num_chars\" \"\"\"\n",
    "\n",
    "rv = \"\"\"Once upon a midnight dreary, while I pondered, weak and weary,\n",
    "    Over many a quaint and curious volume of forgotten lore,\n",
    "    While I nodded, nearly napping, suddenly there came a tapping,\n",
    "    As of some one gently rapping, rapping at my chamber door.\n",
    "    'Tis some visitor, I muttered, tapping at my chamber door;\n",
    "    Only this and nothing more.\"\"\"\n",
    "\n",
    "count = 0 \n",
    "for chars in rv:\n",
    "    count += 1\n",
    "    num_chars = count\n",
    "\n",
    "    \n",
    "num_chars, count    "
   ]
  },
  {
   "cell_type": "code",
   "execution_count": null,
   "metadata": {},
   "outputs": [],
   "source": [
    "#\"\"\"Files Handling in Python\"\"\"\n",
    "## File content\n",
    "\"\"\"This summer I will be travelling.\n",
    "I will go to...\n",
    "Italy: Rome\n",
    "Greece: Athens\n",
    "England: London, Manchester\n",
    "France: Paris, Nice, Lyon\n",
    "Spain: Madrid, Barcelona, Granada\n",
    "Austria: Vienna\n",
    "I will probably not even want to come back!\n",
    "However, I wonder how I will get by with all the different languages.\n",
    "I only know English!\"\"\"\n",
    "'''.............................'''\n",
    "\"\"\"The textfile, \"travel_plans.txt\", contains the summer travel plans for someone with some commentary. \n",
    "Find the total number of characters in the file and save to the variable \"num\". \"\"\"\n",
    "\n",
    "fileref = open(\"travel_plans.txt\",\"r\")\n",
    "contents = fileref.read()\n",
    "num = len(contents)\n",
    "print(num)"
   ]
  },
  {
   "cell_type": "code",
   "execution_count": null,
   "metadata": {},
   "outputs": [],
   "source": [
    "# File content\n",
    "\"\"\"Sad upset blue down melancholy somber bitter troubled\n",
    "Angry mad enraged irate irritable wrathful outraged infuriated\n",
    "Happy cheerful content elated joyous delighted lively glad\n",
    "Confused disoriented puzzled perplexed dazed befuddled\n",
    "Excited eager thrilled delighted\n",
    "Scared afraid fearful panicked terrified petrified startled\n",
    "Nervous anxious jittery jumpy tense uneasy apprehensive\"\"\"\n",
    "'''.....................................'''\n",
    "\"\"\"We have provided a file called emotion_words.txt that contains lines of words that describe emotions. \n",
    "Find the total number of words in the file and assign this value to the variable num_words. \"\"\"\n",
    "\n",
    "fileref = open(\"emotion_words.txt\",\"r\")\n",
    "contents = fileref.read().strip().split()\n",
    "num_words = len(contents)\n",
    "print(len(contents))\n"
   ]
  },
  {
   "cell_type": "code",
   "execution_count": null,
   "metadata": {},
   "outputs": [],
   "source": [
    "# File content\n",
    "\"\"\"Writing essays for school can be difficult but\n",
    "many students find that by researching their topic that they\n",
    "have more to say and are better informed. Here are the university\n",
    "we require many undergraduate students to take a first year writing requirement\n",
    "so that they can\n",
    "have a solid foundation for their writing skills. This comes\n",
    "in handy for many students.\n",
    "Different schools have different requirements, but everyone uses\n",
    "writing at some point in their academic career, be it essays, research papers,\n",
    "technical write ups, or scripts.\"\"\"\n",
    "'''..........................................'''\n",
    "\n",
    "\"\"\"Assign to the variable num_lines the number of lines in the file school_prompt.txt. \"\"\"\n",
    "file_obj = open(\"school_prompt.txt\",\"r\")\n",
    "contents = file_obj.readlines()\n",
    "num_lines = len(contents)\n",
    "print(num_lines)"
   ]
  },
  {
   "cell_type": "code",
   "execution_count": null,
   "metadata": {},
   "outputs": [],
   "source": [
    "\"\"\"Assign the first 30 characters of school_prompt.txt as a string to the variable beginning_chars. \"\"\"\n",
    "\n",
    "file_obj = open(\"school_prompt.txt\",\"r\")\n",
    "contents = file_obj.read()\n",
    "beginning_chars = contents[:30]\n",
    "print(beginning_chars)"
   ]
  },
  {
   "cell_type": "code",
   "execution_count": null,
   "metadata": {},
   "outputs": [],
   "source": [
    "\"\"\"Challenge: Using the file school_prompt.txt, assign the third word of every line to a list called three. \"\"\"\n",
    "\n",
    "file_obj = open(\"school_prompt.txt\",\"r\")\n",
    "contents = file_obj.readlines()\n",
    "#print(contents)\n",
    "three = []\n",
    "for lines in contents:\n",
    "    rows = lines.strip().split()\n",
    "    # the lines are shown\n",
    "    print(rows)\n",
    "    \n",
    "    # to get the index of each line\n",
    "    lines_index = contents.index(lines)\n",
    "    print(\"+++\",lines_index,\"+++\")\n",
    "    \n",
    "    # Third word of every line\n",
    "    print(\"***\",rows[2],\"****\")\n",
    "    three.append(rows[2])"
   ]
  },
  {
   "cell_type": "code",
   "execution_count": null,
   "metadata": {},
   "outputs": [],
   "source": [
    "\"\"\"Challenge: Create a list called emotions that contains the first word of every line in emotion_words.txt.\"\"\"\n",
    "file_obj = open(\"emotion_words.txt\",\"r\")\n",
    "contents = file_obj.readlines()\n",
    "#print(contents)\n",
    "emotions = list()\n",
    "for lines in contents:\n",
    "    line = lines.strip().split()\n",
    "    #print(line)\n",
    "    # To grab the first word in each line\n",
    "    first_word = line[0]\n",
    "    print(\"***\",first_word,\"***\")\n",
    "    emotions.append(first_word)"
   ]
  },
  {
   "cell_type": "code",
   "execution_count": null,
   "metadata": {},
   "outputs": [],
   "source": [
    "\"\"\"Assign the first 33 characters from the textfile, travel_plans.txt to the variable first_chars.\"\"\"\n",
    "\n",
    "file_obj = open(\"travel_plans.txt\",\"r\")\n",
    "contents = file_obj.read()\n",
    "first_chars = contents[:33]"
   ]
  },
  {
   "cell_type": "code",
   "execution_count": null,
   "metadata": {},
   "outputs": [],
   "source": [
    "\"\"\"Challenge: Using the file school_prompt.txt, if the character ‘p’ is in a word, then add the word to a list called p_words. \"\"\"\n",
    "\n",
    "file_obj = open(\"school_prompt.txt\",\"r\")\n",
    "contents = file_obj.read().strip().split()\n",
    "#print(contents)\n",
    "p_words = []\n",
    "for word in contents:\n",
    "    if \"p\" in word:\n",
    "        words = word\n",
    "        p_words.append(words)\n",
    "        #print(words)\n",
    "print(p_words)"
   ]
  },
  {
   "cell_type": "code",
   "execution_count": null,
   "metadata": {},
   "outputs": [],
   "source": [
    "# File content\n",
    "\"\"\"joe 10 15 20 30 40\n",
    "bill 23 16 19 22\n",
    "sue 8 22 17 14 32 17 24 21 2 9 11 17\n",
    "grace 12 28 21 45 26 10\n",
    "john 14 32 25 16 89\"\"\"\n",
    "\"\"\"......................................\"\"\"\n",
    "\"\"\"The following sample file called studentdata.txt contains one line for each student in an imaginary class. \n",
    "The students name is the first thing on each line, followed by some exam scores. \n",
    "The number of scores might be different for each student.\"\"\"\n",
    "\n",
    "\"\"\"Using the text file studentdata.txt write a program that prints out the names of students that have more than six quiz scores.\"\"\"\n",
    "\n",
    "\n",
    "# Hint: first see if you can write a program that just prints out the number of scores on each line\n",
    "# Then, make it print the number only if the number is at least six\n",
    "# Then, switch it to printing the name instead of the number\n",
    "file_obj = open(\"studentdata.txt\",\"r\")\n",
    "contents = file_obj.readlines()\n",
    "#print(contents)\n",
    "\n",
    "for score in contents:\n",
    "    score_ = score.strip().split()\n",
    "    #print(score_)\n",
    "    if len(score_[1:]) > 6:\n",
    "        print(score_[0])\n",
    "file_obj.close()"
   ]
  },
  {
   "cell_type": "code",
   "execution_count": null,
   "metadata": {},
   "outputs": [],
   "source": [
    "# File content is already in one of the above lines\n",
    "\"\"\"Create a list called destination using the data stored in travel_plans.txt. \n",
    "Each element of the list should contain a line from the file that lists a country and cities inside that country. \n",
    "Hint: each line that has this information also has a colon : in it. \"\"\"\n",
    "\n",
    "file_obj = open(\"travel_plans.txt\",\"r\")\n",
    "contents = file_obj.read()\n",
    "#print(contents)\n",
    "destination = list()\n",
    "for line in file_obj:\n",
    "    lines = line.strip()\n",
    "    #print(lines)\n",
    "    if \":\" in lines:\n",
    "        #print(lines)\n",
    "        destination.append((lines)+ \"\\n\")\n",
    "print(destination)\n",
    "file_obj.close()\n"
   ]
  },
  {
   "cell_type": "code",
   "execution_count": null,
   "metadata": {},
   "outputs": [],
   "source": [
    "# File content already in use above\n",
    "\"\"\"Create a list called j_emotions that contains every word in emotion_words.txt that begins with the letter “j”. \"\"\"\n",
    "file_obj = open(\"emotion_words.txt\",\"r\")\n",
    "contents = file_obj.readlines()\n",
    "#print(contents)\n",
    "j_emotions = []\n",
    "for line in contents:\n",
    "    lines = line.strip().split()\n",
    "    #print(lines)\n",
    "    #print(type(lines))\n",
    "    for word in lines:\n",
    "        if word[0] == \"j\":\n",
    "            #print(word)\n",
    "            j_emotions.append(word)\n",
    "\n",
    "\"\"\"Best approach\"\"\"\n",
    "contents = file_obj.strip().split()\n",
    "j_emotions = list()\n",
    "for word in contents:\n",
    "    if word[0] == \"j\":\n",
    "        j_emotions.append(word)\n",
    "        print(word)\n",
    "file_obj.close()"
   ]
  },
  {
   "cell_type": "code",
   "execution_count": null,
   "metadata": {},
   "outputs": [],
   "source": [
    "# File content used above \n",
    "\"\"\"The textfile, travel_plans.txt, contains the summer travel plans for someone with some commentary. \n",
    "Find the total number of characters in the file and save to the variable num. \"\"\"\n",
    "\n",
    "file_obj = open(\"travel_plans.txt\",\"r\")\n",
    "contents = file_obj.read()#.strip()\n",
    "#print(contents)\n",
    "num = len(contents)\n",
    "print(\"Total number of characters in the text file is\", num)"
   ]
  },
  {
   "cell_type": "code",
   "execution_count": null,
   "metadata": {},
   "outputs": [],
   "source": [
    "# File content used above \n",
    "\"\"\"We have provided a file called emotion_words.txt that contains lines of words that describe emotions. \n",
    "Find the total number of words in the file and assign this value to the variable num_words. \"\"\"\n",
    "\n",
    "fileref = open(\"emotion_words.txt\",\"r\")\n",
    "contents = fileref.read().strip().split()\n",
    "#print(contents)\n",
    "num_words = len(contents)\n",
    "print(\"Total number of words in the text file is\",num_words)"
   ]
  },
  {
   "cell_type": "code",
   "execution_count": null,
   "metadata": {},
   "outputs": [],
   "source": [
    "# File content used above \n",
    "\"\"\"Assign to the variable num_lines the number of lines in the file school_prompt.txt. \"\"\"\n",
    "\n",
    "file_obj = open(\"school_prompt.txt\",\"r\")\n",
    "contents = file_obj.readlines()\n",
    "#print(contents)\n",
    "num_lines = len(contents)\n",
    "print(\"Total number of lines in the text file is\", num_lines)"
   ]
  },
  {
   "cell_type": "code",
   "execution_count": null,
   "metadata": {},
   "outputs": [],
   "source": [
    "# File content used above \n",
    "\"\"\"Assign the first 30 characters of school_prompt.txt as a string to the variable beginning_chars.\"\"\"\n",
    "\n",
    "file_obj = open(\"school_prompt.txt\", \"r\")\n",
    "contents = file_obj.read()\n",
    "#print(contents)\n",
    "beginning_chars = contents[:30]\n",
    "print(\"The first thirty characters of the text file is '{}'.\".format(beginning_chars))\n"
   ]
  },
  {
   "cell_type": "code",
   "execution_count": null,
   "metadata": {},
   "outputs": [],
   "source": [
    "# File content used above\n",
    "\"\"\"Challenge: Using the file school_prompt.txt, assign the third word of every line to a list called three. \"\"\"\n",
    "\n",
    "file_obj = open(\"school_prompt.txt\",\"r\")\n",
    "contents = file_obj.readlines()\n",
    "#print(contents)\n",
    "three = list()\n",
    "for word in contents:\n",
    "    words = word.strip().split()\n",
    "    #print(type(words))\n",
    "    #print(words)\n",
    "    print(words[2])\n",
    "    three.append(words[2])\n"
   ]
  },
  {
   "cell_type": "code",
   "execution_count": null,
   "metadata": {},
   "outputs": [],
   "source": [
    "# File content used above\n",
    "\"\"\"Challenge: Create a list called emotions that contains the first word of every line in emotion_words.txt. \"\"\"\n",
    "\n",
    "file_obj = open(\"emotion_words.txt\",\"r\")\n",
    "contents = file_obj.readlines()\n",
    "#print(contents)\n",
    "emotions = []\n",
    "for word in contents:\n",
    "    words = word.strip().split()\n",
    "    #print(words)\n",
    "    print(words[0])\n",
    "    emotions.append(words[0])"
   ]
  },
  {
   "cell_type": "code",
   "execution_count": null,
   "metadata": {},
   "outputs": [],
   "source": [
    "# File content used above\n",
    "\"\"\"Assign the first 33 characters from the textfile, travel_plans.txt to the variable first_chars. \"\"\"\n",
    "fileref =open(\"travel_plans.txt\",\"r\")\n",
    "contents = fileref.read()\n",
    "#print(contents)\n",
    "first_chars = (contents[:33])\n",
    "print(first_chars)"
   ]
  },
  {
   "cell_type": "code",
   "execution_count": null,
   "metadata": {},
   "outputs": [],
   "source": [
    "# File content used above \n",
    "\"\"\"Challenge: Using the file school_prompt.txt, if the character ‘p’ is in a word, then add the word to a list called p_words. \"\"\"\n",
    "file_obj = open(\"school_prompt.txt\", \"r\")\n",
    "contents = file_obj.read().strip().split()\n",
    "#print(contents)\n",
    "p_words = []\n",
    "for word in contents:\n",
    "    if \"p\" in word:\n",
    "        print(word)\n",
    "        p_words.append(word)\n",
    "\n"
   ]
  },
  {
   "cell_type": "code",
   "execution_count": 283,
   "metadata": {},
   "outputs": [
    {
     "data": {
      "text/plain": [
       "{'gold': 33, 'silver': 17, 'bronze': 12}"
      ]
     },
     "execution_count": 283,
     "metadata": {},
     "output_type": "execute_result"
    }
   ],
   "source": [
    "# Dictionaries in Python\n",
    "\"\"\"Create a dictionary that keeps track of the USA’s Olympic medal count. \n",
    "Each key of the dictionary should be the type of medal (gold, silver, or bronze) and each key’s value should be the number \n",
    "of that type of medal the USA’s won. Currently, the USA has 33 gold medals, 17 silver, and 12 bronze. \n",
    "Create a dictionary saved in the variable medals that reflects this information. \"\"\"\n",
    "medals = {\"gold\":33,\"silver\":17,\"bronze\":12}\n",
    "medals"
   ]
  },
  {
   "cell_type": "code",
   "execution_count": 287,
   "metadata": {},
   "outputs": [
    {
     "data": {
      "text/plain": [
       "{'gold': 7, 'silver': 8, 'bronze': 6}"
      ]
     },
     "execution_count": 287,
     "metadata": {},
     "output_type": "execute_result"
    }
   ],
   "source": [
    "\"\"\"You are keeping track of olympic medals for Italy in the 2016 Rio Summer Olympics! \n",
    "At the moment, Italy has 7 gold medals, 8 silver metals, and 6 bronze medals. \n",
    "Create a dictionary called olympics where the keys are the types of medals, \n",
    "and the values are the number of that type of medals that Italy has won so far.\"\"\"\n",
    "olympics = {\"gold\":7}\n",
    "olympics[\"silver\"]= 8\n",
    "olympics['bronze'] = 6\n",
    "olympics"
   ]
  },
  {
   "cell_type": "code",
   "execution_count": 301,
   "metadata": {},
   "outputs": [
    {
     "name": "stdout",
     "output_type": "stream",
     "text": [
      "***Before deleting the key 'dog'\n",
      " {'cat': 12, 'dog': 6, 'elephant': 23, 'mouse': 18}\n",
      "***The numbers of mouse : 18\n",
      "*** dict_2 : 4\n"
     ]
    }
   ],
   "source": [
    "mydict = {\"cat\":12, \"dog\":6, \"elephant\":23}\n",
    "mydict[\"mouse\"] = mydict[\"cat\"] + mydict[\"dog\"]\n",
    "print(\"***Before deleting the key 'dog'\\n\",mydict)\n",
    "print(\"***The numbers of mouse :\",mydict[\"mouse\"])\n",
    "\n",
    "#\n",
    "dict_2 = len(mydict)\n",
    "print(\"*** dict_2 :\",dict_2)\n",
    "# To delete a value\n",
    "del mydict['dog']\n",
    "\n"
   ]
  },
  {
   "cell_type": "code",
   "execution_count": 290,
   "metadata": {},
   "outputs": [
    {
     "data": {
      "text/plain": [
       "{'Manuel': 4,\n",
       " 'Lochte': 12,\n",
       " 'Adrian': 7,\n",
       " 'Ledecky': 5,\n",
       " 'Dirado': 4,\n",
       " 'Phelps': 28}"
      ]
     },
     "execution_count": 290,
     "metadata": {},
     "output_type": "execute_result"
    }
   ],
   "source": [
    "\"\"\"Update the value for “Phelps” in the dictionary swimmers to include his medals from the Rio Olympics \n",
    "by adding 5 to the current value (Phelps will now have 28 total medals). Do not rewrite the dictionary. \"\"\"\n",
    "\n",
    "swimmers = {'Manuel':4, 'Lochte':12, 'Adrian':7, 'Ledecky':5, 'Dirado':4, 'Phelps':23}\n",
    "swimmers['Phelps'] += 5 # swimmers[\"Phelps\"] = swimmers['Phelps'] + 5\n",
    "swimmers"
   ]
  },
  {
   "cell_type": "code",
   "execution_count": 326,
   "metadata": {},
   "outputs": [
    {
     "name": "stdout",
     "output_type": "stream",
     "text": [
      "The key name Manuel is associated with value 4\n",
      "The key name Lochte is associated with value 12\n",
      "The key name Adrian is associated with value 7\n",
      "The key name Ledecky is associated with value 5\n",
      "The key name Dirado is associated with value 4\n",
      "The key name Phelps is associated with value 23\n"
     ]
    },
    {
     "data": {
      "text/plain": [
       "4"
      ]
     },
     "execution_count": 326,
     "metadata": {},
     "output_type": "execute_result"
    }
   ],
   "source": [
    "swimmers = {'Manuel':4, 'Lochte':12, 'Adrian':7, 'Ledecky':5, 'Dirado':4, 'Phelps':23}\n",
    "for key in swimmers.keys():\n",
    "    #print(key)\n",
    "    print(\"The key name\",key,\"is associated with value {}\".format(swimmers[key]))\n",
    "\n",
    "ks = swimmers.keys() \n",
    "#type(ks)\n",
    "ks\n",
    "# To get the dictionary keys as list\n",
    "ky = list(swimmers.keys())\n",
    "ky\n",
    "# To get the dictionary values as list\n",
    "vl = list(swimmers.values())\n",
    "vl\n",
    "# To get the dictionary keys as tuple\n",
    "tp = swimmers.items()\n",
    "tp\n",
    "# get it in as list of tuples\n",
    "tup = list(swimmers.items())\n",
    "#print(tup)\n",
    "#tup[0][1]"
   ]
  },
  {
   "cell_type": "code",
   "execution_count": 330,
   "metadata": {},
   "outputs": [
    {
     "name": "stdout",
     "output_type": "stream",
     "text": [
      "cat\n",
      "dog\n",
      "elephant\n",
      "23\n"
     ]
    }
   ],
   "source": [
    "mydic = {\"cat\":12, \"dog\":6, \"elephant\":23}\n",
    "for key in mydic:\n",
    "    print(key)# to get the keys\n",
    "    #print(mydic[key])# to get the values\n",
    "    \n",
    "if 'elephant' in mydic:\n",
    "    print(mydic[\"elephant\"])\n",
    "else:\n",
    "    print(\"We have none\")"
   ]
  },
  {
   "cell_type": "code",
   "execution_count": 339,
   "metadata": {},
   "outputs": [
    {
     "name": "stdout",
     "output_type": "stream",
     "text": [
      "33\n",
      "None\n",
      "0\n",
      "17\n"
     ]
    }
   ],
   "source": [
    "medals = {\"gold\":33,\"silver\":17,\"bronze\":12}\n",
    "print(medals.get(\"gold\"))\n",
    "print(medals.get(\"precious_stone\"))# this would not return error even though its not in dictionary\n",
    "#print(medals[\"precious_stone\"])# this would throw back error\n",
    "\n",
    "print(medals.get(\"platinum\", 0)) # if key is not in dictionary, return the value 0 or any value that is after the key \"platinum\"\n",
    "print(medals.get(\"silver\", 40)) # if key exist, it would return its associated value regardless what is currently given as an option here"
   ]
  },
  {
   "cell_type": "code",
   "execution_count": 340,
   "metadata": {},
   "outputs": [
    {
     "name": "stdout",
     "output_type": "stream",
     "text": [
      "2\n"
     ]
    }
   ],
   "source": [
    "mydict = {\"cat\":12, \"dog\":6, \"elephant\":23, \"bear\":20}\n",
    "answer = mydict.get(\"cat\")//mydict.get(\"dog\")\n",
    "print(answer)"
   ]
  },
  {
   "cell_type": "code",
   "execution_count": null,
   "metadata": {},
   "outputs": [],
   "source": [
    "total = 0\n",
    "mydict = {\"cat\":12, \"dog\":6, \"elephant\":23, \"bear\":20}\n",
    "for akey in mydict:\n",
    "   if len(akey) > 3:\n",
    "      total = total + mydict[akey]\n",
    "print(total)"
   ]
  },
  {
   "cell_type": "code",
   "execution_count": 341,
   "metadata": {},
   "outputs": [
    {
     "data": {
      "text/plain": [
       "{'Australia': 2000,\n",
       " 'Greece': 2004,\n",
       " 'China': 2008,\n",
       " 'England': 2012,\n",
       " 'Brazil': 2016}"
      ]
     },
     "execution_count": 341,
     "metadata": {},
     "output_type": "execute_result"
    }
   ],
   "source": [
    "\"\"\"Every four years, the summer Olympics are held in a different country. \n",
    "Add a key-value pair to the dictionary places that reflects that the 2016 Olympics were held in Brazil. \n",
    "Do not rewrite the entire dictionary to do this! \"\"\"\n",
    "places = {\"Australia\":2000, \"Greece\":2004, \"China\":2008, \"England\":2012}\n",
    "places[\"Brazil\"] = 2016\n",
    "places"
   ]
  },
  {
   "cell_type": "code",
   "execution_count": 342,
   "metadata": {},
   "outputs": [
    {
     "data": {
      "text/plain": [
       "['Shooting', 'Fencing', 'Judo', 'Swimming', 'Diving']"
      ]
     },
     "execution_count": 342,
     "metadata": {},
     "output_type": "execute_result"
    }
   ],
   "source": [
    "\"\"\"We have a dictionary of the specific events that Italy has won medals in and the number of medals they have won \n",
    "for each event. Assign to the variable events a list of the keys from the dictionary medal_events. Do not hard code this. \"\"\"\n",
    "\n",
    "medal_events = {'Shooting': 7, 'Fencing': 4, 'Judo': 2, 'Swimming': 3, 'Diving': 2}\n",
    "events = list(medal_events.keys())\n",
    "events"
   ]
  },
  {
   "cell_type": "code",
   "execution_count": 345,
   "metadata": {},
   "outputs": [
    {
     "name": "stdout",
     "output_type": "stream",
     "text": [
      "True\n"
     ]
    },
    {
     "data": {
      "text/plain": [
       "{'gold': 33, 'silver': 17, 'bronze': 12}"
      ]
     },
     "execution_count": 345,
     "metadata": {},
     "output_type": "execute_result"
    }
   ],
   "source": [
    "# To make an alias of dictionary would mean a change in the alias would change the original \n",
    "alias = mydic\n",
    "print(alias is mydic)\n",
    "\n",
    "# To create a copy of original dictionary\n",
    "acopy = medals.copy()\n",
    "acopy # Any change in dictionary acopy would not affect the original dictionary medals"
   ]
  },
  {
   "cell_type": "code",
   "execution_count": 347,
   "metadata": {},
   "outputs": [
    {
     "name": "stdout",
     "output_type": "stream",
     "text": [
      "{'United States': 70, 'Great Britain': 38, 'China': 45, 'Russia': 30, 'Germany': 17}\n"
     ]
    }
   ],
   "source": [
    "\"\"\"At the halfway point during the Rio Olympics, the United States had 70 medals, \n",
    "Great Britain had 38 medals, China had 45 medals, Russia had 30 medals, and Germany had 17 medals. \n",
    "Create a dictionary assigned to the variable medal_count with the country names as the keys and the number of medals \n",
    "the country had as each key’s value. \"\"\"\n",
    "\n",
    "medal_count = {}\n",
    "medal_count[\"United States\"] = 70\n",
    "medal_count[\"Great Britain\"] = 38\n",
    "medal_count[\"China\"] = 45\n",
    "medal_count[\"Russia\"] = 30\n",
    "medal_count[\"Germany\"] = 17\n",
    "\n",
    "print(medal_count)"
   ]
  },
  {
   "cell_type": "code",
   "execution_count": 348,
   "metadata": {},
   "outputs": [
    {
     "name": "stdout",
     "output_type": "stream",
     "text": [
      "{'Manuel': 4, 'Lochte': 12, 'Adrian': 7, 'Ledecky': 5, 'Dirado': 4, 'Phelps': 23}\n"
     ]
    }
   ],
   "source": [
    "\"\"\"Not yet graded\n",
    "Given the dictionary swiddlers, add an additional key-value pair to the dictionary with \"Phelps\" as the key and the integer 23 as the value. \n",
    "Do not rewrite the entire dictionary. \"\"\"\n",
    "\n",
    "swiddlers = {'Manuel':4, 'Lochte':12, 'Adrian':7, 'Ledecky':5, 'Dirado':4}\n",
    "swiddlers[\"Phelps\"] = 23\n",
    "print(swiddlers)"
   ]
  },
  {
   "cell_type": "code",
   "execution_count": 349,
   "metadata": {},
   "outputs": [
    {
     "data": {
      "text/plain": [
       "{'baseball': 9, 'basketball': 4, 'soccer': 4, 'cricket': 2, 'hockey': 3}"
      ]
     },
     "execution_count": 349,
     "metadata": {},
     "output_type": "execute_result"
    }
   ],
   "source": [
    "\"\"\"Add the string “hockey” as a key to the dictionary sports_periods and assign it the value of 3. \n",
    "Do not rewrite the entire dictionary.\"\"\"\n",
    "\n",
    "sports_periods = {'baseball': 9, 'basketball': 4, 'soccer': 4, 'cricket': 2}\n",
    "sports_periods[\"hockey\"] = 3\n",
    "sports_periods"
   ]
  },
  {
   "cell_type": "code",
   "execution_count": 350,
   "metadata": {},
   "outputs": [
    {
     "data": {
      "text/plain": [
       "{'Italy': 12,\n",
       " 'USA': 33,\n",
       " 'Brazil': 15,\n",
       " 'China': 27,\n",
       " 'Spain': 21,\n",
       " 'Canada': 22,\n",
       " 'Argentina': 8,\n",
       " 'England': 29}"
      ]
     },
     "execution_count": 350,
     "metadata": {},
     "output_type": "execute_result"
    }
   ],
   "source": [
    "\"\"\"The dictionary golds contains information about how many gold medals each country won in the 2016 Olympics. But today, Spain won 2 more gold medals. \n",
    "Update golds to reflect this information. \"\"\"\n",
    "\n",
    "golds = {\"Italy\": 12, \"USA\": 33, \"Brazil\": 15, \"China\": 27, \"Spain\": 19, \"Canada\": 22, \"Argentina\": 8, \"England\": 29}\n",
    "golds[\"Spain\"] = golds[\"Spain\"] + 2\n",
    "\n",
    "golds"
   ]
  },
  {
   "cell_type": "code",
   "execution_count": 353,
   "metadata": {},
   "outputs": [
    {
     "data": {
      "text/plain": [
       "['Italy', 'USA', 'Brazil', 'China', 'Spain', 'Canada', 'Argentina', 'England']"
      ]
     },
     "execution_count": 353,
     "metadata": {},
     "output_type": "execute_result"
    }
   ],
   "source": [
    "\"\"\"Create a list of the countries that are in the dictionary golds, and assign that list to the variable name countries. \n",
    "Do not hard code this.\"\"\"\n",
    "\n",
    "golds = {\"Italy\": 12, \"USA\": 33, \"Brazil\": 15, \"China\": 27, \"Spain\": 19, \"Canada\": 22, \"Argentina\": 8, \"England\": 29}\n",
    "countries = list(golds.keys())\n",
    "#type(countries)\n",
    "countries"
   ]
  },
  {
   "cell_type": "code",
   "execution_count": 354,
   "metadata": {},
   "outputs": [
    {
     "data": {
      "text/plain": [
       "4"
      ]
     },
     "execution_count": 354,
     "metadata": {},
     "output_type": "execute_result"
    }
   ],
   "source": [
    "\"\"\"Provided is the dictionary, medal_count, which lists countries and their respective medal count at the halfway point in \n",
    "the 2016 Rio Olympics. Using dictionary mechanics, assign the medal count value for \"Belarus\" to the variable belarus. \n",
    "Do not hardcode this. \"\"\"\n",
    "\n",
    "medal_count = {'United States': 70, 'Great Britain':38, 'China':45, 'Russia':30, 'Germany':17, 'Italy':22, 'France': 22, 'Japan':26, 'Australia':22, 'South Korea':14, 'Hungary':12, 'Netherlands':10, 'Spain':5, 'New Zealand':8, 'Canada':13, 'Kazakhstan':8, 'Colombia':4, 'Switzerland':5, 'Belgium':4, 'Thailand':4, 'Croatia':3, 'Iran':3, 'Jamaica':3, 'South Africa':7, 'Sweden':6, 'Denmark':7, 'North Korea':6, 'Kenya':4, 'Brazil':7, 'Belarus':4, 'Cuba':5, 'Poland':4, 'Romania':4, 'Slovenia':3, 'Argentina':2, 'Bahrain':2, 'Slovakia':2, 'Vietnam':2, 'Czech Republic':6, 'Uzbekistan':5}\n",
    "belarus = medal_count[\"Belarus\"]\n",
    "belarus"
   ]
  },
  {
   "cell_type": "code",
   "execution_count": 357,
   "metadata": {},
   "outputs": [
    {
     "data": {
      "text/plain": [
       "13"
      ]
     },
     "execution_count": 357,
     "metadata": {},
     "output_type": "execute_result"
    }
   ],
   "source": [
    "\"\"\"The dictionary total_golds contains the total number of gold medals that countries have won over the course of history. \n",
    "Use dictionary mechanics to find the number of golds Chile has won, and assign that number to the variable name chile_golds. \n",
    "Do not hard code this! \"\"\"\n",
    "\n",
    "total_golds = {\"Italy\": 114, \"Germany\": 782, \"Pakistan\": 10, \"Sweden\": 627, \"USA\": 2681, \"Zimbabwe\": 8, \"Greece\": 111, \"Mongolia\": 24, \"Brazil\": 108, \"Croatia\": 34, \"Algeria\": 15, \"Switzerland\": 323, \"Yugoslavia\": 87, \"China\": 526, \"Egypt\": 26, \"Norway\": 477, \"Spain\": 133, \"Australia\": 480, \"Slovakia\": 29, \"Canada\": 22, \"New Zealand\": 100, \"Denmark\": 180, \"Chile\": 13, \"Argentina\": 70, \"Thailand\": 24, \"Cuba\": 209, \"Uganda\": 7,  \"England\": 806, \"Denmark\": 180, \"Ukraine\": 122, \"Bahamas\": 12}\n",
    "#print(total_golds)\n",
    "chile_golds = total_golds[\"Chile\"]\n",
    "chile_golds"
   ]
  },
  {
   "cell_type": "code",
   "execution_count": 358,
   "metadata": {},
   "outputs": [
    {
     "data": {
      "text/plain": [
       "4"
      ]
     },
     "execution_count": 358,
     "metadata": {},
     "output_type": "execute_result"
    }
   ],
   "source": [
    "\"\"\"Provided is a dictionary called US_medals which has the first 70 metals that the United States has won in 2016, \n",
    "and in which category they have won it in. Using dictionary mechanics, assign the value of the key \"Fencing\" to a variable fencing_value. \n",
    "Remember, do not hard code this. \"\"\"\n",
    "\n",
    "US_medals = {\"Swimming\": 33, \"Gymnastics\": 6, \"Track & Field\": 6, \"Tennis\": 3, \"Judo\": 2, \"Rowing\": 2, \"Shooting\": 3, \"Cycling - Road\": 1, \"Fencing\": 4, \"Diving\": 2, \"Archery\": 2, \"Cycling - Track\": 1, \"Equestrian\": 2, \"Golf\": 1, \"Weightlifting\": 1}\n",
    "fencing_value = US_medals[\"Fencing\"]\n",
    "fencing_value"
   ]
  },
  {
   "cell_type": "code",
   "execution_count": 370,
   "metadata": {},
   "outputs": [
    {
     "data": {
      "text/plain": [
       "{'H': 1,\n",
       " 'e': 3,\n",
       " 'l': 3,\n",
       " 'o': 1,\n",
       " ',': 1,\n",
       " ' ': 6,\n",
       " 't': 3,\n",
       " 'h': 1,\n",
       " 'i': 4,\n",
       " 's': 3,\n",
       " 'a': 1,\n",
       " 'q': 1,\n",
       " 'u': 1,\n",
       " 'c': 1,\n",
       " 'k': 1,\n",
       " 'f': 1,\n",
       " '.': 1}"
      ]
     },
     "execution_count": 370,
     "metadata": {},
     "output_type": "execute_result"
    }
   ],
   "source": [
    "file_obj = open(\"test.txt\",\"r\")\n",
    "contents = file_obj.read() # long string of the file content\n",
    "#contents.strip()\n",
    "text = {}\n",
    "for txt in contents.strip():\n",
    "    if txt not in text:\n",
    "        text[txt] = 0\n",
    "    # whether we've seen it before    \n",
    "    text[txt] = text[txt] + 1 \n",
    "text    "
   ]
  },
  {
   "cell_type": "code",
   "execution_count": 375,
   "metadata": {},
   "outputs": [
    {
     "data": {
      "text/plain": [
       "{'The': 1,\n",
       " 'dog': 1,\n",
       " 'chased': 1,\n",
       " 'the': 3,\n",
       " 'rabbit': 2,\n",
       " 'into': 1,\n",
       " 'forest': 1,\n",
       " 'but': 1,\n",
       " 'was': 1,\n",
       " 'too': 1,\n",
       " 'quick.': 1}"
      ]
     },
     "execution_count": 375,
     "metadata": {},
     "output_type": "execute_result"
    }
   ],
   "source": [
    "sentence = \"The dog chased the rabbit into the forest but the rabbit was too quick.\"\n",
    "word_count = dict()\n",
    "ss = sentence.split()\n",
    "ss\n",
    "for word in ss: # instead of ss, see the second code\n",
    "    if word not in word_count:\n",
    "        word_count[word] = 0\n",
    "    word_count[word] = word_count[word] + 1\n",
    "word_count   \n",
    "\n",
    "# Second best method\n",
    "word_accum = {}\n",
    "for word in sentence.split():\n",
    "    if word not in word_accum:\n",
    "        word_accum[word] = 0\n",
    "    word_accum[word] = word_accum[word] + 1\n",
    "word_accum    "
   ]
  },
  {
   "cell_type": "code",
   "execution_count": 388,
   "metadata": {},
   "outputs": [
    {
     "data": {
      "text/plain": [
       "{'w': 1, 'h': 1, 'a': 2, 't': 1, 'c': 1, 'n': 1, 'i': 1, 'd': 1, 'o': 1}"
      ]
     },
     "execution_count": 388,
     "metadata": {},
     "output_type": "execute_result"
    }
   ],
   "source": [
    "stri = \"what can i do\"\n",
    "chars = stri.split() # I had to rip the spaces \n",
    "#print(chars)\n",
    "char_join = \"\".join(chars)# if the \"stri\" is used in place of \"chars\", then, spaces would be counted. you could test it by commenting on line 2 and using \"stri\" instead of \"chars\"\n",
    "#print(char_join)\n",
    "\n",
    "char_d = {}\n",
    "for char in char_join:# if \"stri\" is used instead of \"char_join\", then spaces would be counted\n",
    "    if char not in char_d:\n",
    "        char_d[char] = 0\n",
    "    char_d[char] += 1\n",
    "char_d"
   ]
  },
  {
   "cell_type": "code",
   "execution_count": 392,
   "metadata": {},
   "outputs": [
    {
     "data": {
      "text/plain": [
       "19"
      ]
     },
     "execution_count": 392,
     "metadata": {},
     "output_type": "execute_result"
    }
   ],
   "source": [
    "\"\"\"The dictionary \"travel\" contains the number of countries within each continent that Uko has traveled to. \n",
    "Find the total number of countries that Uko has been to, and save this number to the variable name 'total'. Do not hard code this.\"\"\"\n",
    "\n",
    "travel = { \"North America\": 2, \"Europe\": 8, \"South America\": 3, \"Asis\": 4, \"Africa\": 1, \"Antarctica\": 0, \"Australia\": 1}\n",
    "total = 0\n",
    "for num in travel:\n",
    "    #print(travel[num])\n",
    "    total = total + travel[num]\n",
    "total    "
   ]
  },
  {
   "cell_type": "code",
   "execution_count": 421,
   "metadata": {},
   "outputs": [
    {
     "name": "stdout",
     "output_type": "stream",
     "text": [
      "{'B': 1, 'e': 17, 'a': 12, 'c': 8, 'h': 4, 's': 10, ' ': 27, 'r': 7, 'o': 10, 'l': 8, 'p': 6, 't': 8, 'v': 3, 'i': 13, 'n': 8, 'g': 2, 'w': 3, 'M': 3, 'k': 2, 'b': 1, 'd': 2, '.': 2, 'x': 1}\n"
     ]
    },
    {
     "data": {
      "text/plain": [
       "'B'"
      ]
     },
     "execution_count": 421,
     "metadata": {},
     "output_type": "execute_result"
    }
   ],
   "source": [
    "placement = \"Beaches are cool places to visit in spring however the Mackinaw brindge is near. Most people visit Mackinaw later since the island is a cool place to explore.\"\n",
    "\n",
    "d = dict()\n",
    "for char in placement:\n",
    "    if char not in d:\n",
    "        d[char] = 0\n",
    "    d[char] = d[char] + 1\n",
    "print(d)   \n",
    "\n",
    "\n",
    "chars = list(d.keys())\n",
    "#print(chars)\n",
    "min_value = chars[0]\n",
    "for key in chars:\n",
    "    if d[key]<d[min_value]:\n",
    "        min_value = key\n",
    "min_value        "
   ]
  },
  {
   "cell_type": "code",
   "execution_count": 416,
   "metadata": {},
   "outputs": [
    {
     "name": "stdout",
     "output_type": "stream",
     "text": [
      "{'i': 2, 'p': 2, 'h': 2, 'o': 3, 'n': 4, 'e': 2, ' ': 3, 'a': 2, 'd': 3, 'r': 1, 's': 1}\n"
     ]
    },
    {
     "data": {
      "text/plain": [
       "'n'"
      ]
     },
     "execution_count": 416,
     "metadata": {},
     "output_type": "execute_result"
    }
   ],
   "source": [
    "\"\"\"Craete a dictionary called lett_d that keeps track of all the characters in the string product and notes how many times\n",
    "each character was seen. Then, find the key with the highest value in this dictionary and assign that key to max_value\"\"\"\n",
    "\n",
    "product = \"iphone and android phones\"\n",
    "\n",
    "lett_d = {}\n",
    "\n",
    "for c in product:\n",
    "    if c not in lett_d:\n",
    "        lett_d[c] = 0\n",
    "    lett_d[c] = lett_d[c] + 1\n",
    "print(lett_d)    \n",
    "\n",
    "chars = list(lett_d.keys())# Create a list out of the dictionary 'lett_d'\n",
    "max_value = chars[0]# assign the first character in chars to variable name max_value\n",
    "\n",
    "for char in chars:# iterate through the list created \n",
    "    if lett_d[char] > lett_d[max_value]:\n",
    "        max_value = char\n",
    "max_value        "
   ]
  },
  {
   "cell_type": "code",
   "execution_count": 418,
   "metadata": {},
   "outputs": [
    {
     "data": {
      "text/plain": [
       "19"
      ]
     },
     "execution_count": 418,
     "metadata": {},
     "output_type": "execute_result"
    }
   ],
   "source": [
    "\"\"\"The dictionary travel contains the number of countries within each continent that Jackie has traveled to. \n",
    "Find the total number of countries that Jackie has been to, and save this number to the variable name total. \n",
    "Do not hard code this! \"\"\"\n",
    "\n",
    "travel = {\"North America\": 2, \"Europe\": 8, \"South America\": 3, \"Asia\": 4, \"Africa\":1, \"Antarctica\": 0, \"Australia\": 1}\n",
    "total = 0\n",
    "\n",
    "for key in travel:\n",
    "    total = total + travel[key] \n",
    "total     "
   ]
  },
  {
   "cell_type": "code",
   "execution_count": 420,
   "metadata": {},
   "outputs": [
    {
     "name": "stdout",
     "output_type": "stream",
     "text": [
      "63\n"
     ]
    }
   ],
   "source": [
    "\"\"\"schedule is a dictionary where a class name is a key and its value is how many credits it was worth. \n",
    "Go through and accumulate the total number of credits that have been earned so far and assign that to \n",
    "the variable total_credits. Do not hardcode.\"\"\"\n",
    "schedule = {\"UARTS 150\": 3, \"SPANISH 103\": 4, \"ENGLISH 125\": 4, \"SI 110\": 4, \"ENS 356\": 2, \"WOMENSTD 240\": 4, \"SI 106\": 4, \"BIO 118\": 3, \"SPANISH 231\": 4, \"PSYCH 111\": 4, \"LING 111\": 3, \"SPANISH 232\": 4, \"STATS 250\": 4, \"SI 206\": 4, \"COGSCI 200\": 4, \"AMCULT 202\": 4, \"ANTHRO 101\": 4}\n",
    "\n",
    "total_credits = 0\n",
    "for key in schedule:\n",
    "    total_credits = total_credits + schedule[key]\n",
    "print(total_credits)    "
   ]
  },
  {
   "cell_type": "code",
   "execution_count": null,
   "metadata": {},
   "outputs": [],
   "source": [
    "\"\"\"Write a program that finds the key in a dictionary that has the maximum value. If two keys have the same maximum value, \n",
    "it’s OK to print out either one. Fill in the skeleton code\"\"\"\n",
    "\n",
    "d = {'a': 194, 'b': 54, 'c':34, 'd': 44, 'e': 312, 'full':31}\n",
    "\n",
    "ks = d.keys()\n",
    "best_key_so_far = ks[0]# initialize variable best_key_so_far to be the first key in d\n",
    "for k in ks:\n",
    "    if d[k] > d[best_key_so_far]:\n",
    "        best_key_so_far = k\n",
    "    # check if the value associated with the current key is\n",
    "    # bigger than the value associated with the best_key_so_far\n",
    "    # if so, save the current key as the best so far\n",
    "\n",
    "print(\"key \" + best_key_so_far + \" has the highest value, \" + str(d[best_key_so_far]))\n"
   ]
  },
  {
   "cell_type": "code",
   "execution_count": 422,
   "metadata": {},
   "outputs": [
    {
     "name": "stdout",
     "output_type": "stream",
     "text": [
      "x\n"
     ]
    }
   ],
   "source": [
    "\"\"\"Create a dictionary called d that keeps track of all the characters in the string placement and notes how many times \n",
    "each character was seen. Then, find the key with the lowest value in this dictionary and assign that key to min_value.\"\"\"\n",
    "\n",
    "placement = \"Beaches are cool places to visit in spring however the Mackinaw Bridge is near. Most people visit Mackinaw later since the island is a cool place to explore.\"\n",
    "d = dict()\n",
    "for char in placement:\n",
    "    if char not in d:\n",
    "        d[char] = 0\n",
    "    d[char] = d[char] + 1\n",
    "#print(d)    \n",
    "keys = list(d.keys())\n",
    "min_value = keys[0]\n",
    "\n",
    "for key in keys:\n",
    "    if d[key] < d[min_value]:\n",
    "        min_value = key\n",
    "print(min_value)"
   ]
  },
  {
   "cell_type": "code",
   "execution_count": null,
   "metadata": {},
   "outputs": [],
   "source": [
    "\"\"\"Create a dictionary called lett_d that keeps track of all of the characters in the string product and notes how many \n",
    "times each character was seen. Then, find the key with the highest value in this dictionary and assign that key to max_value. \"\"\"\n",
    "\n",
    "product = \"iphone and android phones\"\n",
    "\n",
    "lett_d = {}\n",
    "for char in product:\n",
    "    if char not in lett_d:\n",
    "        lett_d[char] = 0\n",
    "    lett_d[char] = lett_d[char] + 1\n",
    "#print(lett_d)\n",
    "\n",
    "keys = list(lett_d.keys())\n",
    "max_value = keys[0]\n",
    "\n",
    "for key in keys:\n",
    "    if lett_d[key] > lett_d[max_value]:\n",
    "        max_value = key\n",
    "print(max_value)        \n"
   ]
  },
  {
   "cell_type": "code",
   "execution_count": null,
   "metadata": {},
   "outputs": [],
   "source": [
    "\"\"\"The dictionary Junior shows a schedule for a junior year semester. The key is the course name and the value is the \n",
    "number of credits. Find the total number of credits taken this semester and assign it to the variable credits. \n",
    "Do not hardcode this – use dictionary accumulation! \"\"\"\n",
    "\n",
    "Junior = {'SI 206':4, 'SI 310':4, 'BL 300':3, 'TO 313':3, 'BCOM 350':1, 'MO 300':3}\n",
    "credits = 0\n",
    "for course in Junior:\n",
    "    credits = credits + Junior[course]\n",
    "pritn(credits)"
   ]
  },
  {
   "cell_type": "code",
   "execution_count": null,
   "metadata": {},
   "outputs": [],
   "source": [
    "\"\"\"Create a dictionary, freq, that displays each character in string str1 as the key and its frequency as the value. \"\"\"\n",
    "\n",
    "str1 = \"peter piper picked a peck of pickled peppers\"\n",
    "freq = dict()\n",
    "for char in str1:\n",
    "    if char not in freq:\n",
    "        freq[char] = 0\n",
    "    freq[char] = freq[char] + 1 "
   ]
  },
  {
   "cell_type": "code",
   "execution_count": null,
   "metadata": {},
   "outputs": [],
   "source": [
    "\"\"\"Provided is a string saved to the variable name s1. Create a dictionary named counts that contains each letter in s1 and the number of times it occurs. \"\"\"\n",
    "\n",
    "s1 = \"hello\"\n",
    "counts = {}\n",
    "for letter in s1:\n",
    "    if letter not in counts:\n",
    "        counts[letter] = 0\n",
    "    counts[letter] = counts[letter] + 1\n",
    "print(counts)    "
   ]
  },
  {
   "cell_type": "code",
   "execution_count": 425,
   "metadata": {},
   "outputs": [
    {
     "name": "stdout",
     "output_type": "stream",
     "text": [
      "['I', 'wish', 'I', 'wish', 'with', 'all', 'my', 'heart', 'to', 'fly', 'with', 'dragons', 'in', 'a', 'land', 'apart']\n",
      "{'I': 2, 'wish': 2, 'with': 2, 'all': 1, 'my': 1, 'heart': 1, 'to': 1, 'fly': 1, 'dragons': 1, 'in': 1, 'a': 1, 'land': 1, 'apart': 1}\n"
     ]
    }
   ],
   "source": [
    "\n",
    "\n",
    "str1 = \"I wish I wish with all my heart to fly with dragons in a land apart\"\n",
    "words = str1.split()\n",
    "print(words)\n",
    "\n",
    "freq_words = {}\n",
    "for word in words:\n",
    "    if word not in freq_words:\n",
    "        freq_words[word] = 0\n",
    "    freq_words[word] = freq_words[word] + 1\n",
    "print(freq_words)   \n",
    "\n",
    "\"\"\"Alternative direct method\"\"\"\n",
    "\n",
    "freq_words = dict()\n",
    "for word in str1.split():\n",
    "    if word not in freq_words:\n",
    "        freq_words[word] = 0\n",
    "        \n",
    "    freq_words[word] = freq_words[word] + 1"
   ]
  },
  {
   "cell_type": "code",
   "execution_count": 426,
   "metadata": {},
   "outputs": [
    {
     "name": "stdout",
     "output_type": "stream",
     "text": [
      "{'Singing': 1, 'in': 2, 'the': 2, 'rain': 2, 'and': 1, 'playing': 1, 'are': 1, 'two': 1, 'entirely': 1, 'different': 1, 'situations': 1, 'but': 1, 'both': 1, 'can': 1, 'be': 1, 'good': 1}\n"
     ]
    }
   ],
   "source": [
    "\"\"\"Create a dictionary called wrd_d from the string sent, so that the key is a word and the value is how many times you have seen that word. \"\"\"\n",
    "\n",
    "sent = \"Singing in the rain and playing in the rain are two entirely different situations but both can be good\"\n",
    "words = sent.split()\n",
    "\n",
    "wrd_d = dict()\n",
    "for word in words:\n",
    "    if word not in wrd_d:\n",
    "        wrd_d[word] = 0\n",
    "    wrd_d[word] = wrd_d[word] + 1 \n",
    "print(wrd_d)    \n"
   ]
  },
  {
   "cell_type": "code",
   "execution_count": 434,
   "metadata": {},
   "outputs": [
    {
     "name": "stdout",
     "output_type": "stream",
     "text": [
      "{'s': 8, 'a': 3, 'l': 6, 'y': 2, ' ': 7, 'e': 6, 'h': 3, 'b': 1, 't': 1, 'o': 1, 'r': 1}\n",
      "...................................................\n",
      "The highest occuring character in Sally: s\n",
      "......................................................\n",
      "The least occuring character in Sally: s\n"
     ]
    }
   ],
   "source": [
    "\"\"\"Create the dictionary characters that shows each character from the string sally and its frequency. Then, find the most \n",
    "frequent letter based on the dictionary. Assign this letter to the variable best_char. \"\"\"\n",
    "\n",
    "sally = \"sally sells sea shells by the sea shore\"\n",
    "characters = {}\n",
    "for char in sally:\n",
    "    if char not in characters:\n",
    "        characters[char] = 0\n",
    "    characters[char] = characters[char] + 1  \n",
    "\n",
    "print(characters)    \n",
    "print(\"...................................................\")\n",
    "\n",
    "keys = list(characters.keys())\n",
    "best_char = keys[0]\n",
    "\n",
    "for key in keys:\n",
    "    if characters[key] > characters[best_char]:\n",
    "        best_char = key\n",
    "print(\"The highest occuring character in Sally:\", best_char) \n",
    "print(\"......................................................\")\n",
    "\n",
    "worst_char = keys[0]\n",
    "for key in keys:\n",
    "    if characters[key] < characters[worst_char]:\n",
    "        worst_char = key\n",
    "        \n",
    "print(\"The least occuring character in Sally:\", best_char)"
   ]
  },
  {
   "cell_type": "code",
   "execution_count": 438,
   "metadata": {},
   "outputs": [
    {
     "name": "stdout",
     "output_type": "stream",
     "text": [
      "{'t': 19, 'h': 11, 'e': 29, 'r': 12, ' ': 53, 'i': 14, 's': 15, 'a': 17, 'd': 7, 'n': 15, 'f': 9, 'o': 17, 'm': 4, ',': 4, 'w': 6, 'c': 3, 'k': 2, 'l': 11, 'u': 8, '.': 4, 'v': 3, 'y': 1, 'g': 1, 'b': 1}\n"
     ]
    }
   ],
   "source": [
    "\"\"\"Create a dictionary named letter_counts that contains each letter and the number of times it occurs in string1. \n",
    "Challenge: Letters should not be counted separately as upper-case and lower-case. Intead, all of them should be counted as lower-case. \"\"\"\n",
    "\n",
    "string1 = \"There is a tide in the affairs of men, Which taken at the flood, leads on to fortune. Omitted, all the voyage of their life is bound in shallows and in miseries. On such a full sea are we now afloat. And we must take the current when it serves, or lose our ventures.\"\n",
    "#print(string1.lower())\n",
    "\n",
    "letter_counts = {}\n",
    "for letter in string1.lower():# The trick was to convert all letters into lower or upper characters\n",
    "    if letter not in letter_counts:\n",
    "        letter_counts[letter] = 0\n",
    "    letter_counts[letter] = letter_counts[letter] + 1 \n",
    "print(letter_counts)    "
   ]
  },
  {
   "cell_type": "code",
   "execution_count": 439,
   "metadata": {},
   "outputs": [
    {
     "name": "stdout",
     "output_type": "stream",
     "text": [
      "{'S': 5, 'U': 7, 'M': 3, 'E': 12, 'R': 3, ' ': 20, 'I': 3, 'A': 6, 'G': 3, 'T': 9, 'O': 8, 'D': 1, '.': 2, 'Y': 1, 'H': 6, 'V': 1, 'B': 2, 'C': 2, 'F': 3, 'L': 1, 'N': 1}\n"
     ]
    }
   ],
   "source": [
    "\"\"\"Create a dictionary called low_d that keeps track of all the characters in the string p and notes how many times each \n",
    "character was seen. Make sure that there are no repeats of characters as keys, such that “T” and “t” are \n",
    "both seen as a “t” for example.\"\"\"\n",
    "\n",
    "p = \"Summer is a great time to go outside. You have to be careful of the sun though because of the heat.\"\n",
    "\n",
    "low_d =dict()\n",
    "for char in p.upper():# The trick was to convert all letters into lower or upper characters\n",
    "    if char not in low_d:\n",
    "        low_d[char] = 0\n",
    "    low_d[char] =low_d[char] + 1\n",
    "print(low_d)    "
   ]
  },
  {
   "cell_type": "code",
   "execution_count": 471,
   "metadata": {},
   "outputs": [
    {
     "name": "stdout",
     "output_type": "stream",
     "text": [
      "Enter a sentence in English: am in the hotel\n",
      "am in th fleabag inn\n"
     ]
    }
   ],
   "source": [
    "\"\"\"Write a program that asks the user for a sentence in English and then translates that sentence to Pirate.\"\"\"\n",
    "\n",
    "eng2pir = {\"sir\":\"matey\",\"hotel\":'fleabag inn',\"student\":'swabbie',\"boy\":'matey',\"madam\":'proud beauty',\"professor\":'foul blaggart',\n",
    "          \"restaurant\":'galley',\"your\":'yer',\"excuse\":'arr',\"students\":'swabbies',\"are\":'be',\"lawyer\":'foul blaggart',\"the\":'th',\n",
    "          \"restroom\":'head',\"my\":'me',\"hello\":'avast',\"is\":'be',\"man\":'matey'}\n",
    "\n",
    "word_eng = input(\"Enter a sentence in English: \")\n",
    "# translator = eng2pir.get(word_eng)\n",
    "# print(translator)\n",
    "words_list = []\n",
    "for char in word_eng.split():\n",
    "    #print(type(char))\n",
    "    #print(char in eng2pir)\n",
    "    if char in eng2pir:\n",
    "        words_list.append(eng2pir[char])\n",
    "    else:\n",
    "        words_list.append(char)\n",
    "#print(words_list)        \n",
    "print(\" \".join(words_list))   "
   ]
  },
  {
   "cell_type": "code",
   "execution_count": 472,
   "metadata": {},
   "outputs": [
    {
     "name": "stdout",
     "output_type": "stream",
     "text": [
      "Project\n"
     ]
    }
   ],
   "source": [
    "\"\"\"Write a program that finds the most used 7 letter word in scarlet3.txt.\"\"\"\n",
    "\n",
    "f = open('scarlet3.txt', 'r')\n",
    "contents = f.read()\n",
    "#print(contents.split())\n",
    "words = {}\n",
    "for word in contents.split():\n",
    "    if len(word) == 7:\n",
    "        #print(word)\n",
    "        if word not in words:\n",
    "            words[word] = 0\n",
    "        words[word] = words[word] + 1\n",
    "#print(words)        \n",
    "keys = list(words.keys())\n",
    "most_7_letter_word = keys[0]\n",
    "for key in keys:\n",
    "    if words[key] > words[most_7_letter_word]:\n",
    "        most_7_letter_word = key\n",
    "print(most_7_letter_word)        \n",
    "\n",
    "f.close()"
   ]
  },
  {
   "cell_type": "code",
   "execution_count": 501,
   "metadata": {},
   "outputs": [
    {
     "name": "stdout",
     "output_type": "stream",
     "text": [
      "Please, enter a sentence: bfbf bdbddi jiuhehe knvknavjahnvnnövon\n",
      "{'b': 4, 'f': 2, 'd': 3, 'i': 2, 'j': 2, 'u': 1, 'h': 3, 'e': 2, 'k': 2, 'n': 6, 'v': 4, 'a': 2, 'o': 1}\n",
      "a 2\n",
      "b 4\n",
      "d 3\n",
      "e 2\n",
      "f 2\n",
      "h 3\n",
      "i 2\n",
      "j 2\n",
      "k 2\n",
      "n 6\n",
      "o 1\n",
      "u 1\n",
      "v 4\n"
     ]
    }
   ],
   "source": [
    "\"\"\"Write a program that allows the user to enter a string. It then prints a table of the letters of the alphabet in \n",
    "alphabetical order which occur in the string together with the number of times each letter occurs. Case should be ignored. \n",
    "A sample run of the program might look this this:\"\"\"\n",
    "\n",
    "\"\"\"Please enter a sentence: ThiS is String with Upper and lower case Letters.\n",
    "a  2\n",
    "c  1\n",
    "d  1\n",
    "e  5\n",
    "g  1\n",
    "h  2\n",
    "i  4\n",
    "l  2\n",
    "n  2\n",
    "o  1\n",
    "p  2\n",
    "r  4\n",
    "s  5\n",
    "t  5\n",
    "u  1\n",
    "w  2\n",
    "$\n",
    "\"\"\"\n",
    "\n",
    "string1 = input(\"Please, enter a sentence: \")\n",
    "sentence = string1.lower()#.split() # this ensures that all characters are not duplicated (e.g. T = t)\n",
    "#print((sentence))\n",
    "alphabet = 'abcdefghijklmnopqrstuvwxyz'\n",
    "\n",
    "wordlist = {}\n",
    "for char in sentence:\n",
    "    if char in alphabet:# ignores any non letter characters\n",
    "        if char in wordlist:\n",
    "            wordlist[char] = wordlist[char] + 1\n",
    "        else:\n",
    "            wordlist[char] =  1\n",
    "# This part of the code does same thing as the if amd else conditional part           \n",
    "#         if char not in wordlist:\n",
    "#             wordlist[char] = 0\n",
    "    \n",
    "#         wordlist[char] = wordlist[char] + 1\n",
    "\n",
    "print(wordlist) \n",
    "\n",
    "# keys = list(wordlist.items())# returns tuples in a list \n",
    "\n",
    "# for key in keys:\n",
    "#     print(key[0], key[1])\n",
    "\n",
    "keys = list(wordlist.keys())\n",
    "for key in sorted(keys):\n",
    "    print(key, wordlist[key])\n",
    "\n",
    "        \n"
   ]
  },
  {
   "cell_type": "code",
   "execution_count": null,
   "metadata": {},
   "outputs": [],
   "source": []
  },
  {
   "cell_type": "code",
   "execution_count": null,
   "metadata": {},
   "outputs": [],
   "source": []
  },
  {
   "cell_type": "code",
   "execution_count": null,
   "metadata": {},
   "outputs": [],
   "source": []
  },
  {
   "cell_type": "code",
   "execution_count": null,
   "metadata": {},
   "outputs": [],
   "source": []
  },
  {
   "cell_type": "code",
   "execution_count": null,
   "metadata": {},
   "outputs": [],
   "source": []
  },
  {
   "cell_type": "code",
   "execution_count": null,
   "metadata": {},
   "outputs": [],
   "source": []
  },
  {
   "cell_type": "code",
   "execution_count": null,
   "metadata": {},
   "outputs": [],
   "source": []
  },
  {
   "cell_type": "code",
   "execution_count": null,
   "metadata": {},
   "outputs": [],
   "source": []
  },
  {
   "cell_type": "code",
   "execution_count": null,
   "metadata": {},
   "outputs": [],
   "source": []
  }
 ],
 "metadata": {
  "kernelspec": {
   "display_name": "Python 3",
   "language": "python",
   "name": "python3"
  }
 },
 "nbformat": 4,
 "nbformat_minor": 2
}
